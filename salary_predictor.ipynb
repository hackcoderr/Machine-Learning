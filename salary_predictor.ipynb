{
  "nbformat": 4,
  "nbformat_minor": 0,
  "metadata": {
    "colab": {
      "name": "salary_predictor",
      "provenance": [],
      "authorship_tag": "ABX9TyO08wU+1VuV9CDSu6mUd7be",
      "include_colab_link": true
    },
    "kernelspec": {
      "name": "python3",
      "display_name": "Python 3"
    },
    "language_info": {
      "name": "python"
    }
  },
  "cells": [
    {
      "cell_type": "markdown",
      "metadata": {
        "id": "view-in-github",
        "colab_type": "text"
      },
      "source": [
        "<a href=\"https://colab.research.google.com/github/hackcoderr/Machine-Learning/blob/main/salary_predictor.ipynb\" target=\"_parent\"><img src=\"https://colab.research.google.com/assets/colab-badge.svg\" alt=\"Open In Colab\"/></a>"
      ]
    },
    {
      "cell_type": "code",
      "metadata": {
        "id": "Sr2tN2m4-Rmy"
      },
      "source": [
        "import joblib as jb"
      ],
      "execution_count": 1,
      "outputs": []
    },
    {
      "cell_type": "code",
      "metadata": {
        "colab": {
          "base_uri": "https://localhost:8080/"
        },
        "id": "8HRAT5TN-baP",
        "outputId": "a7397636-f99f-4419-ed01-aa05800a8f12"
      },
      "source": [
        "print(\"---------------------------------------------------------------------\")\n",
        "print(\"           Model:Salary Prediction from year of experience           \")\n",
        "print(\"---------------------------------------------------------------------\")"
      ],
      "execution_count": 2,
      "outputs": [
        {
          "output_type": "stream",
          "text": [
            "---------------------------------------------------------------------\n",
            "           Model:Salary Prediction from year of experience           \n",
            "---------------------------------------------------------------------\n"
          ],
          "name": "stdout"
        }
      ]
    },
    {
      "cell_type": "code",
      "metadata": {
        "colab": {
          "base_uri": "https://localhost:8080/"
        },
        "id": "E4AR5pi4-g02",
        "outputId": "313e4e8b-3df3-4529-e8ae-2c15577f72e9"
      },
      "source": [
        "exp=input(\"What is the experience: \")\n",
        "exp=float(exp)"
      ],
      "execution_count": 3,
      "outputs": [
        {
          "output_type": "stream",
          "text": [
            "What is the experience: 2\n"
          ],
          "name": "stdout"
        }
      ]
    },
    {
      "cell_type": "code",
      "metadata": {
        "id": "8MTSebvZ-tmo"
      },
      "source": [
        "mind=jb.load('model_salary_predict.pk1')"
      ],
      "execution_count": 4,
      "outputs": []
    },
    {
      "cell_type": "code",
      "metadata": {
        "id": "YjB4isgZ-4eZ"
      },
      "source": [
        "salary = mind.predict([[exp]])"
      ],
      "execution_count": 5,
      "outputs": []
    },
    {
      "cell_type": "code",
      "metadata": {
        "colab": {
          "base_uri": "https://localhost:8080/"
        },
        "id": "gqATVYz7-9tI",
        "outputId": "487a6a76-51e2-4323-8145-23416a440d3c"
      },
      "source": [
        "print(\"Salary will be:\",salary)"
      ],
      "execution_count": 6,
      "outputs": [
        {
          "output_type": "stream",
          "text": [
            "Salary will be: [[44692.12484158]]\n"
          ],
          "name": "stdout"
        }
      ]
    },
    {
      "cell_type": "code",
      "metadata": {
        "id": "tE0VI2Jg_AFr"
      },
      "source": [
        ""
      ],
      "execution_count": null,
      "outputs": []
    }
  ]
}